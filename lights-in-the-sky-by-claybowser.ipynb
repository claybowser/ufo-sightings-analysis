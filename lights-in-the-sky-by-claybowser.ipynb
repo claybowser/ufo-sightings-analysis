{
 "cells": [
  {
   "cell_type": "markdown",
   "metadata": {},
   "source": [
    "# Lights in the Sky: Decoding UFO Sightings Patterns\n",
    "## By Clay Bowser, December 7th 2024\n",
    "\n",
    "## [Data supplied by: National UFO Reporting Center (NUFORC) · Anna Wolak](https://www.kaggle.com/datasets/NUFORC/ufo-sightings/data)\n",
    "## [Video walkthrough of this Notebook](https://youtu.be/XoPRliDiQy4)\n",
    "### Description: This UFO data analysis notebook explores a dataset of UFO sightings through data cleaning, statistical analysis, and visualization. It reveals trends in sighting durations and shapes, ultimately implementing a Random Forest Classifier to predict whether sightings occurred at night. The findings suggest that most UFO sightings happen at night, which may indicate that these phenomena are avoiding detection or that it's easier to misidentify satellites or aircraft under low visibility conditions."
   ]
  },
  {
   "cell_type": "markdown",
   "metadata": {},
   "source": [
    "## Import Libraries"
   ]
  },
  {
   "cell_type": "code",
   "execution_count": 1,
   "metadata": {},
   "outputs": [
    {
     "name": "stderr",
     "output_type": "stream",
     "text": [
      "c:\\Users\\W0296928\\Documents\\assignment-2-claybowser\\ydata_env\\Lib\\site-packages\\tqdm\\auto.py:21: TqdmWarning: IProgress not found. Please update jupyter and ipywidgets. See https://ipywidgets.readthedocs.io/en/stable/user_install.html\n",
      "  from .autonotebook import tqdm as notebook_tqdm\n"
     ]
    }
   ],
   "source": [
    "# !pip install setuptools\n",
    "# !pip install ydata-profiling\n",
    "import pandas as pd\n",
    "import numpy as np\n",
    "import matplotlib.pyplot as plt\n",
    "import seaborn as sns\n",
    "from ydata_profiling import ProfileReport\n",
    "from sklearn.model_selection import train_test_split\n",
    "from sklearn.pipeline import Pipeline\n",
    "from sklearn.impute import SimpleImputer\n",
    "from sklearn.preprocessing import StandardScaler, OneHotEncoder\n",
    "from sklearn.compose import ColumnTransformer\n",
    "from sklearn.ensemble import RandomForestClassifier\n",
    "from sklearn.metrics import classification_report\n",
    "import warnings\n",
    "warnings.filterwarnings('ignore')"
   ]
  },
  {
   "cell_type": "markdown",
   "metadata": {},
   "source": [
    "## Load Data and Perform Basic Statistics"
   ]
  },
  {
   "cell_type": "code",
   "execution_count": 2,
   "metadata": {},
   "outputs": [
    {
     "name": "stdout",
     "output_type": "stream",
     "text": [
      "Basic Statistics:\n",
      "       duration (seconds)      latitude     longitude\n",
      "count        8.867400e+04  88679.000000  88679.000000\n",
      "mean         8.391920e+03     37.453033    -85.021836\n",
      "std          5.911567e+05     11.572439     41.421744\n",
      "min          0.000000e+00    -82.862752   -176.658056\n",
      "25%          1.500000e+01     34.035000   -112.073333\n",
      "50%          1.200000e+02     39.233333    -87.650000\n",
      "75%          6.000000e+02     42.717817    -77.769738\n",
      "max          9.783600e+07     72.700000    178.441900\n",
      "\n",
      "Null Values Count:\n",
      "datetime                    0\n",
      "city                        0\n",
      "state                    7409\n",
      "country                 12365\n",
      "shape                    2922\n",
      "duration (seconds)          5\n",
      "duration (hours/min)     3019\n",
      "comments                   35\n",
      "date posted                 0\n",
      "latitude                    0\n",
      "longitude                   0\n",
      "dtype: int64\n",
      "\n",
      "Shape Categories:\n",
      "shape\n",
      "light       17872\n",
      "triangle     8489\n",
      "circle       8453\n",
      "fireball     6562\n",
      "unknown      6319\n",
      "Name: count, dtype: int64\n",
      "\n",
      "Top Countries:\n",
      "country\n",
      "us    70293\n",
      "ca     3266\n",
      "gb     2050\n",
      "au      593\n",
      "de      112\n",
      "Name: count, dtype: int64\n",
      "\n",
      "Date Range:\n",
      "First sighting: 1/1/1910 24:00\n",
      "Last sighting: 9/9/2013 23:30\n"
     ]
    }
   ],
   "source": [
    "# Load and perform basic statistics\n",
    "df = pd.read_csv('ufo_kaggle_complete.csv', \n",
    "                 quoting=1,  # Change quoting mode\n",
    "                 escapechar='\\\\',  # Add escape character\n",
    "                 on_bad_lines='skip'  # Skip problematic rows\n",
    "                )\n",
    "\n",
    "# Clean numeric columns first\n",
    "df['duration (seconds)'] = pd.to_numeric(df['duration (seconds)'], errors='coerce')\n",
    "df['latitude'] = pd.to_numeric(df['latitude'].astype(str).str.replace('q', ''), errors='coerce')\n",
    "df['longitude'] = pd.to_numeric(df['longitude'].astype(str).str.replace('q', ''), errors='coerce')\n",
    "\n",
    "# Show statistics for all numeric columns\n",
    "print(\"Basic Statistics:\")\n",
    "print(df[['duration (seconds)', 'latitude', 'longitude']].describe())\n",
    "\n",
    "# Show null values for all columns\n",
    "print(\"\\nNull Values Count:\")\n",
    "print(df.isnull().sum())\n",
    "\n",
    "# Additional data insights\n",
    "print(\"\\nShape Categories:\")\n",
    "print(df['shape'].value_counts().head())\n",
    "\n",
    "print(\"\\nTop Countries:\")\n",
    "print(df['country'].value_counts().head())\n",
    "\n",
    "print(\"\\nDate Range:\")\n",
    "print(f\"First sighting: {df['datetime'].min()}\")\n",
    "print(f\"Last sighting: {df['datetime'].max()}\")"
   ]
  },
  {
   "cell_type": "markdown",
   "metadata": {},
   "source": [
    "## Generate YData Profiler Report"
   ]
  },
  {
   "cell_type": "code",
   "execution_count": 3,
   "metadata": {},
   "outputs": [
    {
     "name": "stderr",
     "output_type": "stream",
     "text": [
      "Summarize dataset: 100%|██████████| 30/30 [00:05<00:00,  5.08it/s, Completed]                                     \n",
      "Generate report structure: 100%|██████████| 1/1 [00:05<00:00,  5.65s/it]\n",
      "Render HTML: 100%|██████████| 1/1 [00:00<00:00,  1.03it/s]\n",
      "Export report to file: 100%|██████████| 1/1 [00:00<00:00, 92.16it/s]\n"
     ]
    }
   ],
   "source": [
    "# Generate YData Profiler Report\n",
    "profile = ProfileReport(df, title=\"UFO Sightings Profiling Report\")\n",
    "profile.to_file(\"ufo_profile_report.html\")"
   ]
  },
  {
   "cell_type": "markdown",
   "metadata": {},
   "source": [
    "## Visualizations"
   ]
  },
  {
   "cell_type": "code",
   "execution_count": 15,
   "metadata": {},
   "outputs": [],
   "source": [
    "# Data cleaning steps\n",
    "df['duration (seconds)'] = pd.to_numeric(df['duration (seconds)'], errors='coerce')\n",
    "df['latitude'] = pd.to_numeric(df['latitude'].astype(str).str.replace('q', ''), errors='coerce')\n",
    "df['longitude'] = pd.to_numeric(df['longitude'].astype(str).str.replace('q', ''), errors='coerce')\n",
    "df['datetime'] = pd.to_datetime(df['datetime'], format='mixed', errors='coerce')\n",
    "\n",
    "# 1. Distribution of Sighting Durations\n",
    "plt.figure(figsize=(10, 6))\n",
    "df['duration (seconds)'].dropna().hist(bins=50, range=(0, df['duration (seconds)'].quantile(0.95)))\n",
    "plt.title('Distribution of Sighting Durations\\n(95th percentile)')\n",
    "plt.xlabel('Duration (seconds)')\n",
    "plt.ylabel('Frequency')\n",
    "\n",
    "# Add caption\n",
    "plt.text(0.5, -0.15, \"Majority of UFO experiences last less than 30 minutes.\", \n",
    "         horizontalalignment='center', verticalalignment='center', \n",
    "         transform=plt.gca().transAxes, fontsize=10, color='green', wrap=True)\n",
    "\n",
    "plt.tight_layout()\n",
    "plt.savefig('ufo_durations.png', bbox_inches='tight')\n",
    "plt.show()\n",
    "plt.close()\n",
    "\n",
    "# 2. Top 10 UFO Shapes\n",
    "plt.figure(figsize=(10, 6))\n",
    "df['shape'].value_counts().head(10).plot(kind='bar')\n",
    "plt.title('Top 10 UFO Shapes')\n",
    "plt.xlabel('Shape')\n",
    "plt.ylabel('Count')\n",
    "plt.xticks(rotation=45)\n",
    "\n",
    "# Add caption\n",
    "plt.text(0.5, -0.15, \"Most frequent type recorded is a ball of light; could be a satellite or aircraft.\", \n",
    "         horizontalalignment='center', verticalalignment='center', \n",
    "         transform=plt.gca().transAxes, fontsize=10, color='green', wrap=True)\n",
    "\n",
    "plt.tight_layout()\n",
    "plt.savefig('ufo_shapes.png', bbox_inches='tight')\n",
    "plt.show()\n",
    "plt.close()\n",
    "\n",
    "# 3. Sightings Over Time\n",
    "plt.figure(figsize=(10, 6))\n",
    "df.dropna(subset=['datetime']).set_index('datetime').resample('Y').size().plot()\n",
    "plt.title('Sightings Over Time')\n",
    "plt.xlabel('Year')\n",
    "plt.ylabel('Number of Sightings')\n",
    "\n",
    "# Add caption\n",
    "plt.text(0.5, -0.15, \"1995 saw a large increase in sightings; coincides with 'Men in Black' release.\", \n",
    "         horizontalalignment='center', verticalalignment='center', \n",
    "         transform=plt.gca().transAxes, fontsize=10, color='green', wrap=True)\n",
    "\n",
    "plt.tight_layout()\n",
    "plt.savefig('ufo_sightings_over_time.png', bbox_inches='tight')\n",
    "plt.show()\n",
    "plt.close()"
   ]
  },
  {
   "cell_type": "markdown",
   "metadata": {},
   "source": [
    "![Graph of UFO durations.](ufo_durations.png)\n",
    "![Graph of UFO sightings over time.](ufo_sightings_over_time.png)\n",
    "![Graph of most common UFO shapes.](ufo_shapes.png)"
   ]
  },
  {
   "cell_type": "markdown",
   "metadata": {},
   "source": [
    "## Preprocessing Pipeline"
   ]
  },
  {
   "cell_type": "code",
   "execution_count": 5,
   "metadata": {},
   "outputs": [],
   "source": [
    "# Separate features\n",
    "numeric_features = ['latitude', 'longitude', 'duration (seconds)']\n",
    "categorical_features = ['shape', 'state', 'country']\n",
    "\n",
    "# Create preprocessing steps\n",
    "numeric_transformer = Pipeline(steps=[\n",
    "    ('imputer', SimpleImputer(strategy='median')),\n",
    "    ('scaler', StandardScaler())\n",
    "])\n",
    "\n",
    "categorical_transformer = Pipeline(steps=[\n",
    "    ('imputer', SimpleImputer(strategy='constant', fill_value='missing')),\n",
    "    ('onehot', OneHotEncoder(drop='first', \n",
    "                            sparse_output=False,\n",
    "                            handle_unknown='ignore'))\n",
    "])\n",
    "\n",
    "# Combine preprocessing steps\n",
    "preprocessor = ColumnTransformer(\n",
    "    transformers=[\n",
    "        ('num', numeric_transformer, numeric_features),\n",
    "        ('cat', categorical_transformer, categorical_features)\n",
    "    ])"
   ]
  },
  {
   "cell_type": "markdown",
   "metadata": {},
   "source": [
    "## Feature Engineering"
   ]
  },
  {
   "cell_type": "code",
   "execution_count": 6,
   "metadata": {},
   "outputs": [],
   "source": [
    "df['hour'] = df['datetime'].dt.hour\n",
    "df['month'] = df['datetime'].dt.month\n",
    "df['year'] = df['datetime'].dt.year\n",
    "df['is_night'] = (df['hour'] >= 18) | (df['hour'] <= 5)"
   ]
  },
  {
   "cell_type": "markdown",
   "metadata": {},
   "source": [
    "## Model Building and Evaluation"
   ]
  },
  {
   "cell_type": "code",
   "execution_count": 7,
   "metadata": {},
   "outputs": [
    {
     "name": "stdout",
     "output_type": "stream",
     "text": [
      "\n",
      "Model Performance:\n",
      "              precision    recall  f1-score   support\n",
      "\n",
      "       False       0.33      0.18      0.23      3724\n",
      "        True       0.81      0.91      0.85     14012\n",
      "\n",
      "    accuracy                           0.75     17736\n",
      "   macro avg       0.57      0.54      0.54     17736\n",
      "weighted avg       0.71      0.75      0.72     17736\n",
      "\n"
     ]
    }
   ],
   "source": [
    "# Let's predict if a sighting occurred at night\n",
    "X = df[numeric_features + categorical_features]\n",
    "y = df['is_night']\n",
    "\n",
    "X_train, X_test, y_train, y_test = train_test_split(X, y, test_size=0.2, random_state=42)\n",
    "\n",
    "# Create and train the pipeline\n",
    "model = Pipeline([\n",
    "    ('preprocessor', preprocessor),\n",
    "    ('classifier', RandomForestClassifier(n_estimators=100, random_state=42))\n",
    "])\n",
    "\n",
    "model.fit(X_train, y_train)\n",
    "\n",
    "# Evaluate the model\n",
    "y_pred = model.predict(X_test)\n",
    "print(\"\\nModel Performance:\")\n",
    "print(classification_report(y_test, y_pred))"
   ]
  }
 ],
 "metadata": {
  "kernelspec": {
   "display_name": "ydata_env",
   "language": "python",
   "name": "python3"
  },
  "language_info": {
   "codemirror_mode": {
    "name": "ipython",
    "version": 3
   },
   "file_extension": ".py",
   "mimetype": "text/x-python",
   "name": "python",
   "nbconvert_exporter": "python",
   "pygments_lexer": "ipython3",
   "version": "3.12.6"
  }
 },
 "nbformat": 4,
 "nbformat_minor": 2
}
